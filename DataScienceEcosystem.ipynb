{
 "cells": [
  {
   "cell_type": "markdown",
   "id": "efffa523",
   "metadata": {},
   "source": [
    "# Data Science Tools and Ecosystem\n"
   ]
  },
  {
   "cell_type": "markdown",
   "id": "c5e9e5b7",
   "metadata": {},
   "source": [
    "In this notebook, Data Science Tools and Ecosystem are summarized"
   ]
  },
  {
   "cell_type": "markdown",
   "id": "cb392948",
   "metadata": {},
   "source": [
    "Some of the popular languages that Data Scientists use are:\n",
    "1. python\n",
    "2. R\n",
    "3. sql\n",
    "4. julia\n"
   ]
  },
  {
   "cell_type": "markdown",
   "id": "4976e372",
   "metadata": {},
   "source": [
    "Some of the commonly used libraries used by Data Scientists include:\n",
    "1. numpy\n",
    "2. pandas\n",
    "3. matplotlib\n",
    "4. scipy\n",
    "5. seaborn"
   ]
  },
  {
   "cell_type": "markdown",
   "id": "cd9fd1b5",
   "metadata": {},
   "source": [
    "|DataScience Tools|\n",
    "|---|\n",
    "|tableau|\n",
    "|powerBI|\n",
    "|apache spark|\n"
   ]
  },
  {
   "cell_type": "markdown",
   "id": "c7efd247",
   "metadata": {},
   "source": [
    "### Below are a few examples of evaluating arithmetic expressions in Python\n"
   ]
  },
  {
   "cell_type": "markdown",
   "id": "30996951",
   "metadata": {},
   "source": [
    "1. Add-a+b\n",
    "2. sub-a-b\n",
    "3. multiply-a*b\n",
    "4. divide-a/b"
   ]
  },
  {
   "cell_type": "code",
   "execution_count": 3,
   "id": "1305e6f6",
   "metadata": {},
   "outputs": [
    {
     "name": "stdout",
     "output_type": "stream",
     "text": [
      "17\n"
     ]
    }
   ],
   "source": [
    " #This a simple arithmetic expression to mutiply then add integers\n",
    "print((3*4)+5)"
   ]
  },
  {
   "cell_type": "code",
   "execution_count": 6,
   "id": "128fc3f3",
   "metadata": {},
   "outputs": [
    {
     "name": "stdout",
     "output_type": "stream",
     "text": [
      "3.3333333333333335 minutes\n"
     ]
    }
   ],
   "source": [
    "#This will convert 200 minutes to hours by diving by 60\n",
    "print(200/60,\"minutes\")"
   ]
  },
  {
   "cell_type": "markdown",
   "id": "227b5c28",
   "metadata": {},
   "source": [
    "**Objectives:**"
   ]
  },
  {
   "cell_type": "markdown",
   "id": "3f7f06a2",
   "metadata": {},
   "source": [
    " - popular languages in datascience\n",
    " - tools for datascience\n",
    " - libraries in python\n",
    " - evaluating arthimetic expressions\n",
    " "
   ]
  },
  {
   "cell_type": "markdown",
   "id": "1e5477d6",
   "metadata": {},
   "source": [
    "## Author\n",
    "J.ADITHYA"
   ]
  },
  {
   "cell_type": "code",
   "execution_count": null,
   "id": "b728f385",
   "metadata": {},
   "outputs": [],
   "source": []
  }
 ],
 "metadata": {
  "kernelspec": {
   "display_name": "Python 3 (ipykernel)",
   "language": "python",
   "name": "python3"
  },
  "language_info": {
   "codemirror_mode": {
    "name": "ipython",
    "version": 3
   },
   "file_extension": ".py",
   "mimetype": "text/x-python",
   "name": "python",
   "nbconvert_exporter": "python",
   "pygments_lexer": "ipython3",
   "version": "3.10.9"
  }
 },
 "nbformat": 4,
 "nbformat_minor": 5
}
